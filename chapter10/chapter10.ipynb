{
 "cells": [
  {
   "cell_type": "markdown",
   "id": "known-shock",
   "metadata": {},
   "source": [
    "# Chapter 10 - Gravitational-wave Bursts detection: Methods\n",
    "\n",
    "**Note**: In this set of challenges you will have to download a file. You can do it manually by saving it on your computer and uploading to Colab, but you have to re-do this everytime you relaunch your Colab session (unless you link it with your Google Drive space and save the files there). An useful alternative is to download the file directly in the notebook, as we do for gravitational-wave data from the Gravitational Wave Open Science Center.\n",
    "\n",
    "For instance, you can do:"
   ]
  },
  {
   "cell_type": "code",
   "execution_count": 1,
   "id": "hybrid-steering",
   "metadata": {},
   "outputs": [],
   "source": [
    "import numpy as np"
   ]
  },
  {
   "cell_type": "code",
   "execution_count": 2,
   "id": "varying-uniform",
   "metadata": {},
   "outputs": [
    {
     "data": {
      "text/plain": [
       "array([[ 5.62178e-21,  1.83831e-19],\n",
       "       [-1.45019e-19, -5.19038e-21],\n",
       "       [ 5.58187e-20,  5.68165e-20],\n",
       "       ...,\n",
       "       [-1.00425e-19, -7.41446e-20],\n",
       "       [ 3.96440e-19,  1.37329e-19],\n",
       "       [ 1.43393e-19,  8.58192e-20]])"
      ]
     },
     "execution_count": 2,
     "metadata": {},
     "output_type": "execute_result"
    }
   ],
   "source": [
    "# numpy's genfromtxt can download directly, you just need to get the link:\n",
    "data=np.genfromtxt('https://raw.githubusercontent.com/astrophysicsvivien/GWA2021/main/chapter10/correlation_test.txt.gz')\n",
    "data"
   ]
  },
  {
   "cell_type": "code",
   "execution_count": 3,
   "id": "original-primary",
   "metadata": {},
   "outputs": [
    {
     "data": {
      "text/plain": [
       "array([[ 5.62178e-21,  1.83831e-19],\n",
       "       [-1.45019e-19, -5.19038e-21],\n",
       "       [ 5.58187e-20,  5.68165e-20],\n",
       "       ...,\n",
       "       [-1.00425e-19, -7.41446e-20],\n",
       "       [ 3.96440e-19,  1.37329e-19],\n",
       "       [ 1.43393e-19,  8.58192e-20]])"
      ]
     },
     "execution_count": 3,
     "metadata": {},
     "output_type": "execute_result"
    }
   ],
   "source": [
    "# or you can download the file in the notebook, and read it in in the standard way:\n",
    "! wget -q https://raw.githubusercontent.com/astrophysicsvivien/GWA2021/main/chapter10/correlation_test.txt.gz\n",
    "data2=np.genfromtxt('correlation_test.txt.gz')\n",
    "data2"
   ]
  },
  {
   "cell_type": "markdown",
   "id": "broadband-jamaica",
   "metadata": {},
   "source": [
    "## Detecting a Supernova signal using cross-correlation\n",
    "\n",
    "The file [correlation_test.txt.gz](https://raw.githubusercontent.com/astrophysicsvivien/GWA2021/main/chapter10/correlation_test.txt.gz) contains two columns of data:\n",
    "\n",
    "1. data from detector 1 “H”\n",
    "2. data from detector 2 “L”\n",
    "\n",
    "The sampling rate is 16384 sec^-1, and the total data duration is 16 sec. The noise is white \n",
    "Gaussian with standard deviation 1e-19. Somewhere in the data is a GW signal from a \n",
    "core-collapse supernova, similar to that in the lecture notes. By cross-correlating data from \n",
    "H and L in 1/8 sec chunks, find the time of arrival of the supernova signal to the nearest +/-1/16 sec.\n",
    "Determine the difference of arrival times of the signal in H and L to the nearest millisecond."
   ]
  },
  {
   "cell_type": "code",
   "execution_count": null,
   "id": "concerned-manor",
   "metadata": {},
   "outputs": [],
   "source": []
  },
  {
   "cell_type": "markdown",
   "id": "agreed-sarah",
   "metadata": {},
   "source": [
    "## Using the Null Energy to reject glitches\n",
    "\n",
    "The file [null_test.txt.gz](https://raw.githubusercontent.com/astrophysicsvivien/GWA2021/main/chapter10/null_test.txt.gz) contains three columns of data:\n",
    "1. data from detector 1 “H”\n",
    "2. data from detector 2 “L”\n",
    "3. data from detector 3 “V”\n",
    "\n",
    "The sampling rate is 16384 sec^-1, and the total data duration is 2 sec. The noise is white \n",
    "Gaussian with standard deviation 1e-19. \n",
    "\n",
    "This data was taken around the time of an observed supernova, and the data streams have \n",
    "been aligned in time so that any GW from the supernova should be simultaneous in the three\n",
    "data streams. Unfortunately, the detectors were glitching at this time and there are two events\n",
    "visible in the data, at t = 0.5 sec after the data start and at t = 1.5 sec. \n",
    "\n",
    "By computing the null energy, show that the first transient is a noise glitch and that the second \n",
    "transient is consistent with a GW. You may use the following antenna response values for the \n",
    "sky position of the supernova:\n",
    "```\n",
    "     H1        L1      V1 \n",
    "F_+  -0.3609   0.4353   0.5536\n",
    "F_x  -0.2401   0.1514  -0.1888\n",
    "```"
   ]
  },
  {
   "cell_type": "code",
   "execution_count": null,
   "id": "analyzed-portfolio",
   "metadata": {},
   "outputs": [],
   "source": []
  },
  {
   "cell_type": "markdown",
   "id": "equivalent-adolescent",
   "metadata": {},
   "source": [
    "## Reconstructing the GW signal\n",
    "\n",
    "The file [waveform_reconstruction_test.txt.gz](https://raw.githubusercontent.com/astrophysicsvivien/GWA2021/main/chapter10/waveform_reconstruction_test.txt.gz) contains one column of data:\n",
    "1. h_+ polarisation of the simulated GW signal from the null energy example above\n",
    "\n",
    "In this simulation the GW signal had h_x = 0.\n",
    "\n",
    "By applying the Moore-Penrose inverse to the data from the previous example around time \n",
    "t = 1.5 sec, compute the maximum-likelihood estimate of the GW plus polarisation. You may \n",
    "wish to compare your estimate to the actual waveform used, in the attached file."
   ]
  },
  {
   "cell_type": "code",
   "execution_count": null,
   "id": "absent-peripheral",
   "metadata": {},
   "outputs": [],
   "source": []
  }
 ],
 "metadata": {
  "kernelspec": {
   "display_name": "Python 3",
   "language": "python",
   "name": "python3"
  },
  "language_info": {
   "codemirror_mode": {
    "name": "ipython",
    "version": 3
   },
   "file_extension": ".py",
   "mimetype": "text/x-python",
   "name": "python",
   "nbconvert_exporter": "python",
   "pygments_lexer": "ipython3",
   "version": "3.7.10"
  }
 },
 "nbformat": 4,
 "nbformat_minor": 5
}
