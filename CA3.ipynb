{
 "cells": [
  {
   "cell_type": "markdown",
   "id": "desperate-tongue",
   "metadata": {},
   "source": [
    "# CA3: Analysis of GW190521\n",
    "\n",
    "For this assignment, you will have to conduct an analysis of the gravitational-wave signal GW190521. This analysis should be done within a Jupyter notebook, with many comments in [Markdown](https://colab.research.google.com/notebooks/markdown_guide.ipynb) desribing and **justifying** the steps taken.\n",
    "\n",
    "- The writing should be at the level of a fellow student of the class\n",
    "- Submit **both** the .ipybn file and the converted .pdf file:\n",
    "  - submit the .pdf file to TurnitIn (make sure all the cells have been run).\n",
    "  - and the .ipynb file by e-mail with the subject \"PXT903/PX4236 CA3\"\n",
    "- Describe **in details** every step of your analysis throughout the notebook.\n",
    "- Any setting choice (sampling rate, window parameter, FFT length, etc...) needs to be justified, either by its own investigation or relevant citations from the literature.\n",
    "- Code alone, without a detailed descriptions of what is done and why, is worth half marks at the most.\n",
    "\n",
    "NOTE: you can use any of the notebooks covered in the class, or code available online, _provided that you justify the settings and methods used_."
   ]
  },
  {
   "cell_type": "markdown",
   "id": "saved-world",
   "metadata": {},
   "source": [
    "## Introduction (15 points)\n",
    "Minimum 300 words.\n",
    "- Write an introduction to this analysis, citing the relevant context and literature.\n",
    "- Write a short summary of what is done in the notebook."
   ]
  },
  {
   "cell_type": "code",
   "execution_count": null,
   "id": "supreme-polls",
   "metadata": {},
   "outputs": [],
   "source": []
  },
  {
   "cell_type": "markdown",
   "id": "ecological-pakistan",
   "metadata": {},
   "source": [
    "## The data and noise model (10 points)\n",
    "\n",
    "- Download and plot the relevant gravitational-wave data for GW190521.\n",
    "- Compute and plot the Power Spectrum Density.\n",
    "- Compute and plot the whitened data. Use filters if necessary to best highlight where the signal is (or might be)."
   ]
  },
  {
   "cell_type": "code",
   "execution_count": null,
   "id": "guilty-cassette",
   "metadata": {},
   "outputs": [],
   "source": []
  },
  {
   "cell_type": "markdown",
   "id": "synthetic-vatican",
   "metadata": {},
   "source": [
    "## The signal model (10 points)\n",
    "\n",
    "- Generate and plot a CBC signal which you expect to be a good match for the signal. Use the literature, and cite your sources\n",
    "- Generate and plot a phenomenological model (sometimes refer to as a \"Burst\" model). A model whose parameters describe the shape of the waveform itself, not the source. \n",
    "- Compute the overlap between those those two signals, and try to find parameters that maximises that overlap.\n",
    "\n",
    "NOTE: remember that gravitational-wave are redshifted."
   ]
  },
  {
   "cell_type": "code",
   "execution_count": null,
   "id": "persistent-avenue",
   "metadata": {},
   "outputs": [],
   "source": []
  },
  {
   "cell_type": "markdown",
   "id": "reported-milton",
   "metadata": {},
   "source": [
    "## Detection (25 points)\n",
    "Limiting yourself to a coincident (**not** coherent) analysis:\n",
    "- Compute the SNR time series for the CBC signal model\n",
    "- Compute the SNR time series for the Burst signal model\n",
    "- Discuss the differences, if any.\n",
    "- Estimate a bound on the False Alarm Rate of the detection."
   ]
  },
  {
   "cell_type": "code",
   "execution_count": null,
   "id": "legendary-alberta",
   "metadata": {},
   "outputs": [],
   "source": []
  },
  {
   "cell_type": "markdown",
   "id": "cardiovascular-yukon",
   "metadata": {},
   "source": [
    "## Parameter Estimation (25 points)\n",
    "Moving to a **coherent** analysis:\n",
    "- Using the CBC model, build a likelihood, prior and posterior function for the network of gravitational-wave detectors.\n",
    "- Maximise that function and plot the relevant quantities.\n",
    "- Interface that posterior function with a sampling algorithm (you are free to select any ready-made algorithm).\n",
    "- Perform the sampling, and plot the results.\n",
    "- Redo the steps above with the Burst model.\n",
    "- Compare the results and discuss."
   ]
  },
  {
   "cell_type": "code",
   "execution_count": null,
   "id": "adaptive-birmingham",
   "metadata": {},
   "outputs": [],
   "source": []
  },
  {
   "cell_type": "markdown",
   "id": "referenced-rehabilitation",
   "metadata": {},
   "source": [
    "## Conclusions (15 points)\n",
    "Minimum 300 words.\n",
    "- Discuss your results in the context of the literature.\n",
    "- Mention how your work compares with published results.\n",
    "- Discuss some of the interpretation possibles of GW190521, including relevant citations from the literature, and summarising them."
   ]
  },
  {
   "cell_type": "code",
   "execution_count": null,
   "id": "higher-drunk",
   "metadata": {},
   "outputs": [],
   "source": []
  }
 ],
 "metadata": {
  "kernelspec": {
   "display_name": "Python 3",
   "language": "python",
   "name": "python3"
  },
  "language_info": {
   "codemirror_mode": {
    "name": "ipython",
    "version": 3
   },
   "file_extension": ".py",
   "mimetype": "text/x-python",
   "name": "python",
   "nbconvert_exporter": "python",
   "pygments_lexer": "ipython3",
   "version": "3.7.10"
  }
 },
 "nbformat": 4,
 "nbformat_minor": 5
}
